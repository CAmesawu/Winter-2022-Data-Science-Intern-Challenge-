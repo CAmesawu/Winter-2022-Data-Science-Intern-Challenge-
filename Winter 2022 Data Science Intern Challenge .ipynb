{
 "cells": [
  {
   "cell_type": "markdown",
   "id": "affecting-switch",
   "metadata": {},
   "source": [
    "# Winter 2022 Data Science Intern Challenge "
   ]
  },
  {
   "cell_type": "code",
   "execution_count": 3,
   "id": "dress-simpson",
   "metadata": {},
   "outputs": [],
   "source": [
    "import pandas as pd\n",
    "import matplotlib.pyplot as plt"
   ]
  },
  {
   "cell_type": "markdown",
   "id": "close-contribution",
   "metadata": {},
   "source": [
    "### Question 1 "
   ]
  },
  {
   "cell_type": "markdown",
   "id": "stretch-israel",
   "metadata": {},
   "source": [
    "On Shopify, we have exactly 100 sneaker shops, and each of these shops sells only one model of shoe. We want to do some analysis of the average order value (AOV). When we look at orders data over a 30 day window, we naively calculate an AOV of $3145.13. Given that we know these shops are selling sneakers, a relatively affordable item, something seems wrong with our analysis. \n",
    "\n",
    "Think about what could be going wrong with our calculation. Think about a better way to evaluate this data. "
   ]
  },
  {
   "cell_type": "code",
   "execution_count": 5,
   "id": "numerous-interpretation",
   "metadata": {},
   "outputs": [],
   "source": [
    "# importing datasset\n",
    "df = pd.read_excel(r'.\\challenge.xlsx')"
   ]
  },
  {
   "cell_type": "code",
   "execution_count": 6,
   "id": "miniature-forum",
   "metadata": {},
   "outputs": [
    {
     "data": {
      "text/html": [
       "<div>\n",
       "<style scoped>\n",
       "    .dataframe tbody tr th:only-of-type {\n",
       "        vertical-align: middle;\n",
       "    }\n",
       "\n",
       "    .dataframe tbody tr th {\n",
       "        vertical-align: top;\n",
       "    }\n",
       "\n",
       "    .dataframe thead th {\n",
       "        text-align: right;\n",
       "    }\n",
       "</style>\n",
       "<table border=\"1\" class=\"dataframe\">\n",
       "  <thead>\n",
       "    <tr style=\"text-align: right;\">\n",
       "      <th></th>\n",
       "      <th>order_id</th>\n",
       "      <th>shop_id</th>\n",
       "      <th>user_id</th>\n",
       "      <th>order_amount</th>\n",
       "      <th>total_items</th>\n",
       "      <th>payment_method</th>\n",
       "      <th>created_at</th>\n",
       "    </tr>\n",
       "  </thead>\n",
       "  <tbody>\n",
       "    <tr>\n",
       "      <th>0</th>\n",
       "      <td>1</td>\n",
       "      <td>53</td>\n",
       "      <td>746</td>\n",
       "      <td>224</td>\n",
       "      <td>2</td>\n",
       "      <td>cash</td>\n",
       "      <td>2017-03-13 12:36:56.190</td>\n",
       "    </tr>\n",
       "    <tr>\n",
       "      <th>1</th>\n",
       "      <td>2</td>\n",
       "      <td>92</td>\n",
       "      <td>925</td>\n",
       "      <td>90</td>\n",
       "      <td>1</td>\n",
       "      <td>cash</td>\n",
       "      <td>2017-03-03 17:38:51.999</td>\n",
       "    </tr>\n",
       "    <tr>\n",
       "      <th>2</th>\n",
       "      <td>3</td>\n",
       "      <td>44</td>\n",
       "      <td>861</td>\n",
       "      <td>144</td>\n",
       "      <td>1</td>\n",
       "      <td>cash</td>\n",
       "      <td>2017-03-14 04:23:55.595</td>\n",
       "    </tr>\n",
       "    <tr>\n",
       "      <th>3</th>\n",
       "      <td>4</td>\n",
       "      <td>18</td>\n",
       "      <td>935</td>\n",
       "      <td>156</td>\n",
       "      <td>1</td>\n",
       "      <td>credit_card</td>\n",
       "      <td>2017-03-26 12:43:36.649</td>\n",
       "    </tr>\n",
       "    <tr>\n",
       "      <th>4</th>\n",
       "      <td>5</td>\n",
       "      <td>18</td>\n",
       "      <td>883</td>\n",
       "      <td>156</td>\n",
       "      <td>1</td>\n",
       "      <td>credit_card</td>\n",
       "      <td>2017-03-01 04:35:10.773</td>\n",
       "    </tr>\n",
       "  </tbody>\n",
       "</table>\n",
       "</div>"
      ],
      "text/plain": [
       "   order_id  shop_id  user_id  order_amount  total_items payment_method  \\\n",
       "0         1       53      746           224            2           cash   \n",
       "1         2       92      925            90            1           cash   \n",
       "2         3       44      861           144            1           cash   \n",
       "3         4       18      935           156            1    credit_card   \n",
       "4         5       18      883           156            1    credit_card   \n",
       "\n",
       "               created_at  \n",
       "0 2017-03-13 12:36:56.190  \n",
       "1 2017-03-03 17:38:51.999  \n",
       "2 2017-03-14 04:23:55.595  \n",
       "3 2017-03-26 12:43:36.649  \n",
       "4 2017-03-01 04:35:10.773  "
      ]
     },
     "execution_count": 6,
     "metadata": {},
     "output_type": "execute_result"
    }
   ],
   "source": [
    "#visualizing the dataset\n",
    "df.head()"
   ]
  },
  {
   "cell_type": "markdown",
   "id": "accurate-declaration",
   "metadata": {},
   "source": [
    "##### Data Exploration"
   ]
  },
  {
   "cell_type": "code",
   "execution_count": 7,
   "id": "radical-counter",
   "metadata": {},
   "outputs": [
    {
     "data": {
      "text/html": [
       "<div>\n",
       "<style scoped>\n",
       "    .dataframe tbody tr th:only-of-type {\n",
       "        vertical-align: middle;\n",
       "    }\n",
       "\n",
       "    .dataframe tbody tr th {\n",
       "        vertical-align: top;\n",
       "    }\n",
       "\n",
       "    .dataframe thead th {\n",
       "        text-align: right;\n",
       "    }\n",
       "</style>\n",
       "<table border=\"1\" class=\"dataframe\">\n",
       "  <thead>\n",
       "    <tr style=\"text-align: right;\">\n",
       "      <th></th>\n",
       "      <th>order_id</th>\n",
       "      <th>shop_id</th>\n",
       "      <th>user_id</th>\n",
       "      <th>order_amount</th>\n",
       "      <th>total_items</th>\n",
       "    </tr>\n",
       "  </thead>\n",
       "  <tbody>\n",
       "    <tr>\n",
       "      <th>count</th>\n",
       "      <td>5000.000000</td>\n",
       "      <td>5000.000000</td>\n",
       "      <td>5000.000000</td>\n",
       "      <td>5000.000000</td>\n",
       "      <td>5000.00000</td>\n",
       "    </tr>\n",
       "    <tr>\n",
       "      <th>mean</th>\n",
       "      <td>2500.500000</td>\n",
       "      <td>50.078800</td>\n",
       "      <td>849.092400</td>\n",
       "      <td>3145.128000</td>\n",
       "      <td>8.78720</td>\n",
       "    </tr>\n",
       "    <tr>\n",
       "      <th>std</th>\n",
       "      <td>1443.520003</td>\n",
       "      <td>29.006118</td>\n",
       "      <td>87.798982</td>\n",
       "      <td>41282.539349</td>\n",
       "      <td>116.32032</td>\n",
       "    </tr>\n",
       "    <tr>\n",
       "      <th>min</th>\n",
       "      <td>1.000000</td>\n",
       "      <td>1.000000</td>\n",
       "      <td>607.000000</td>\n",
       "      <td>90.000000</td>\n",
       "      <td>1.00000</td>\n",
       "    </tr>\n",
       "    <tr>\n",
       "      <th>25%</th>\n",
       "      <td>1250.750000</td>\n",
       "      <td>24.000000</td>\n",
       "      <td>775.000000</td>\n",
       "      <td>163.000000</td>\n",
       "      <td>1.00000</td>\n",
       "    </tr>\n",
       "    <tr>\n",
       "      <th>50%</th>\n",
       "      <td>2500.500000</td>\n",
       "      <td>50.000000</td>\n",
       "      <td>849.000000</td>\n",
       "      <td>284.000000</td>\n",
       "      <td>2.00000</td>\n",
       "    </tr>\n",
       "    <tr>\n",
       "      <th>75%</th>\n",
       "      <td>3750.250000</td>\n",
       "      <td>75.000000</td>\n",
       "      <td>925.000000</td>\n",
       "      <td>390.000000</td>\n",
       "      <td>3.00000</td>\n",
       "    </tr>\n",
       "    <tr>\n",
       "      <th>max</th>\n",
       "      <td>5000.000000</td>\n",
       "      <td>100.000000</td>\n",
       "      <td>999.000000</td>\n",
       "      <td>704000.000000</td>\n",
       "      <td>2000.00000</td>\n",
       "    </tr>\n",
       "  </tbody>\n",
       "</table>\n",
       "</div>"
      ],
      "text/plain": [
       "          order_id      shop_id      user_id   order_amount  total_items\n",
       "count  5000.000000  5000.000000  5000.000000    5000.000000   5000.00000\n",
       "mean   2500.500000    50.078800   849.092400    3145.128000      8.78720\n",
       "std    1443.520003    29.006118    87.798982   41282.539349    116.32032\n",
       "min       1.000000     1.000000   607.000000      90.000000      1.00000\n",
       "25%    1250.750000    24.000000   775.000000     163.000000      1.00000\n",
       "50%    2500.500000    50.000000   849.000000     284.000000      2.00000\n",
       "75%    3750.250000    75.000000   925.000000     390.000000      3.00000\n",
       "max    5000.000000   100.000000   999.000000  704000.000000   2000.00000"
      ]
     },
     "execution_count": 7,
     "metadata": {},
     "output_type": "execute_result"
    }
   ],
   "source": [
    "df.describe()"
   ]
  },
  {
   "cell_type": "code",
   "execution_count": 8,
   "id": "documentary-amplifier",
   "metadata": {},
   "outputs": [
    {
     "name": "stdout",
     "output_type": "stream",
     "text": [
      "<class 'pandas.core.frame.DataFrame'>\n",
      "RangeIndex: 5000 entries, 0 to 4999\n",
      "Data columns (total 7 columns):\n",
      " #   Column          Non-Null Count  Dtype         \n",
      "---  ------          --------------  -----         \n",
      " 0   order_id        5000 non-null   int64         \n",
      " 1   shop_id         5000 non-null   int64         \n",
      " 2   user_id         5000 non-null   int64         \n",
      " 3   order_amount    5000 non-null   int64         \n",
      " 4   total_items     5000 non-null   int64         \n",
      " 5   payment_method  5000 non-null   object        \n",
      " 6   created_at      5000 non-null   datetime64[ns]\n",
      "dtypes: datetime64[ns](1), int64(5), object(1)\n",
      "memory usage: 273.6+ KB\n"
     ]
    }
   ],
   "source": [
    "df.info()"
   ]
  },
  {
   "cell_type": "markdown",
   "id": "rational-bleeding",
   "metadata": {},
   "source": [
    "This shows there are no null values in the data."
   ]
  },
  {
   "cell_type": "code",
   "execution_count": 10,
   "id": "molecular-honolulu",
   "metadata": {},
   "outputs": [
    {
     "data": {
      "text/plain": [
       "{'whiskers': [<matplotlib.lines.Line2D at 0x1ed67a161f0>,\n",
       "  <matplotlib.lines.Line2D at 0x1ed67a16550>],\n",
       " 'caps': [<matplotlib.lines.Line2D at 0x1ed67a168b0>,\n",
       "  <matplotlib.lines.Line2D at 0x1ed67a16c10>],\n",
       " 'boxes': [<matplotlib.lines.Line2D at 0x1ed67a08e50>],\n",
       " 'medians': [<matplotlib.lines.Line2D at 0x1ed67a16f70>],\n",
       " 'fliers': [<matplotlib.lines.Line2D at 0x1ed679fa310>],\n",
       " 'means': []}"
      ]
     },
     "execution_count": 10,
     "metadata": {},
     "output_type": "execute_result"
    },
    {
     "data": {
      "image/png": "[encoded data removed]",
      "text/plain": [
       "<Figure size 432x288 with 1 Axes>"
      ]
     },
     "metadata": {
      "needs_background": "light"
     },
     "output_type": "display_data"
    }
   ],
   "source": [
    "plt.boxplot(df.order_amount, patch_artist=None, widths=None)"
   ]
  },
  {
   "cell_type": "markdown",
   "id": "criminal-ghost",
   "metadata": {},
   "source": [
    "###### What metric would you report for this dataset?"
   ]
  },
  {
   "cell_type": "markdown",
   "id": "common-treat",
   "metadata": {},
   "source": [
    "Since there are outliers in the dataset the appropriate metric is the median."
   ]
  },
  {
   "cell_type": "markdown",
   "id": "returning-scheme",
   "metadata": {},
   "source": [
    "###### What is its value?"
   ]
  },
  {
   "cell_type": "code",
   "execution_count": 13,
   "id": "cognitive-single",
   "metadata": {},
   "outputs": [
    {
     "name": "stdout",
     "output_type": "stream",
     "text": [
      "The value is 284.0\n"
     ]
    }
   ],
   "source": [
    "print('The value is', df.order_amount.median())"
   ]
  },
  {
   "cell_type": "markdown",
   "id": "sexual-sunglasses",
   "metadata": {},
   "source": [
    "### Question 2"
   ]
  },
  {
   "cell_type": "markdown",
   "id": "careful-pilot",
   "metadata": {},
   "source": [
    "For this question you’ll need to use SQL. Follow this link to access the data set required for the challenge. Please use queries to answer the following questions. Paste your queries along with your final numerical answers below."
   ]
  },
  {
   "cell_type": "markdown",
   "id": "interstate-hamburg",
   "metadata": {},
   "source": [
    "###### a. How many orders were shipped by Speedy Express in total?"
   ]
  },
  {
   "cell_type": "raw",
   "id": "ready-pride",
   "metadata": {},
   "source": [
    "SELECT COUNT(*) as NumberOfOrders\n",
    "FROM Orders JOIN Shippers ON Shippers.ShipperID = Orders.ShipperID\n",
    "WHERE Shippers.ShipperName = 'Speedy Express'"
   ]
  },
  {
   "cell_type": "markdown",
   "id": "healthy-vertical",
   "metadata": {},
   "source": [
    "After joining the Orders and Shippers,count the number of entries where the shipper name is Speedy Express. \n",
    "Number of orders shipped by Speedy Express in total is 54"
   ]
  },
  {
   "cell_type": "markdown",
   "id": "coupled-practice",
   "metadata": {},
   "source": [
    " ##### b. What is the last name of the employee with the most orders?"
   ]
  },
  {
   "cell_type": "code",
   "execution_count": null,
   "id": "realistic-preliminary",
   "metadata": {},
   "outputs": [],
   "source": [
    "SELECT Employees.LastName, COUNT() AS NumberOfOrders\n",
    "FROM Orders JOIN Employees ON Orders.EmployeeID = Employees.EmployeeID\n",
    "GROUP BY Employees.LastName ORDER BY NumOrders DESC\n",
    "LIMIT 1"
   ]
  },
  {
   "cell_type": "markdown",
   "id": "communist-filing",
   "metadata": {},
   "source": [
    "The employee with the last name Peacock had the most orders, at 40."
   ]
  },
  {
   "cell_type": "markdown",
   "id": "mature-stable",
   "metadata": {},
   "source": [
    "##### c. What product was ordered the most by customers in Germany?"
   ]
  },
  {
   "cell_type": "code",
   "execution_count": null,
   "id": "absent-camel",
   "metadata": {},
   "outputs": [],
   "source": [
    "SELECT Products.ProductName, SUM(OrderDetails.Quantity) AS \"OrderAmount\"\n",
    "FROM Orders JOIN Customers ON Customers.CustomerID = Orders.CustomerID\n",
    "JOIN OrderDetails ON [OrderDetails].OrderID = Orders.OrderID\n",
    "JOIN Products ON [Products].ProductID = OrderDetails.ProductID WHERE Customers.Country = 'Germany'\n",
    "GROUP BY OrderDetails.ProductID\n",
    "ORDER BY OrderAmount DESC\n",
    "LIMIT 1"
   ]
  },
  {
   "cell_type": "markdown",
   "id": "overhead-metallic",
   "metadata": {},
   "source": [
    "The product most ordered by German customers is Boston Crab Meat, having a total of 160 orders."
   ]
  },
  {
   "cell_type": "code",
   "execution_count": null,
   "id": "musical-sheriff",
   "metadata": {},
   "outputs": [],
   "source": []
  }
 ],
 "metadata": {
  "kernelspec": {
   "display_name": "Python 3",
   "language": "python",
   "name": "python3"
  },
  "language_info": {
   "codemirror_mode": {
    "name": "ipython",
    "version": 3
   },
   "file_extension": ".py",
   "mimetype": "text/x-python",
   "name": "python",
   "nbconvert_exporter": "python",
   "pygments_lexer": "ipython3",
   "version": "3.8.8"
  }
 },
 "nbformat": 4,
 "nbformat_minor": 5
}
